{
  "metadata": {
    "language_info": {
      "codemirror_mode": {
        "name": "javascript"
      },
      "file_extension": ".js",
      "mimetype": "text/javascript",
      "name": "javascript",
      "nbconvert_exporter": "javascript",
      "pygments_lexer": "javascript",
      "version": "es2017"
    },
    "kernelspec": {
      "name": "javascript",
      "display_name": "JavaScript",
      "language": "javascript"
    }
  },
  "nbformat_minor": 4,
  "nbformat": 4,
  "cells": [
    {
      "cell_type": "markdown",
      "source": "# My Jupyter Notebook on IBM Watson Studio",
      "metadata": {}
    },
    {
      "cell_type": "markdown",
      "source": "**Imran Akhtar**\n\nSenior Purchase Assistant",
      "metadata": {}
    },
    {
      "cell_type": "markdown",
      "source": "*I am interested in data science because it will be helpful in making my job more easier, faster, accurate and notable.*",
      "metadata": {}
    },
    {
      "cell_type": "markdown",
      "source": "### The below code(1+1) will be added and display an out of 2.",
      "metadata": {}
    },
    {
      "cell_type": "code",
      "source": "1+1",
      "metadata": {
        "trusted": true
      },
      "execution_count": 3,
      "outputs": [
        {
          "execution_count": 3,
          "output_type": "execute_result",
          "data": {
            "text/plain": 2
          },
          "metadata": {}
        }
      ]
    },
    {
      "cell_type": "markdown",
      "source": "---\n\n***\n\n\n~~strike through~~\n\n1. Fist Sale\n2. Another Sale\n\n\n* Fist Sale\n* Another Sale",
      "metadata": {}
    }
  ]
}